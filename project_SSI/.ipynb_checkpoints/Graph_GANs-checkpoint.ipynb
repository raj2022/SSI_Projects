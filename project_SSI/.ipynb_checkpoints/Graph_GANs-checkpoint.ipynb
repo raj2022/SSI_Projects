{
 "cells": [
  {
   "cell_type": "markdown",
   "id": "d9becf8a",
   "metadata": {},
   "source": [
    "**Task:-** \n",
    "\n",
    "EF-2: Try to make generative model of jet images, using a AUC of a discriminator to distinguish Generative model data / real data as metric\n",
    "\n",
    "From https://github.com/makagan/SSI_Projects/blob/main/jet_notebooks/1.LHCJetDatasetExploration.ipynbfrom "
   ]
  },
  {
   "cell_type": "code",
   "execution_count": 1,
   "id": "18e73448",
   "metadata": {},
   "outputs": [],
   "source": [
    "## Reading the files\n",
    "import h5py\n",
    "import numpy as np\n",
    "import matplotlib.pyplot as plt\n",
    "%matplotlib inline"
   ]
  },
  {
   "cell_type": "code",
   "execution_count": 2,
   "id": "49e2292d",
   "metadata": {},
   "outputs": [
    {
     "name": "stdout",
     "output_type": "stream",
     "text": [
      "['jetConstituentList', 'jetFeatureNames', 'jetImage', 'jetImageECAL', 'jetImageHCAL', 'jets', 'particleFeatureNames']\n"
     ]
    }
   ],
   "source": [
    " # Data already downloaded \n",
    "# let's open the file\n",
    "fileIN = '../jet_notebooks/Data-MLtutorial/JetDataset/jetImage_7_100p_30000_40000.h5'\n",
    "f = h5py.File(fileIN)\n",
    "# and see what it contains\n",
    "print(list(f.keys()))"
   ]
  },
  {
   "cell_type": "code",
   "execution_count": 3,
   "id": "24fb77dc",
   "metadata": {},
   "outputs": [
    {
     "name": "stdout",
     "output_type": "stream",
     "text": [
      "[b'j_ptfrac' b'j_pt' b'j_eta' b'j_mass' b'j_tau1_b1' b'j_tau2_b1'\n",
      " b'j_tau3_b1' b'j_tau1_b2' b'j_tau2_b2' b'j_tau3_b2' b'j_tau32_b1'\n",
      " b'j_tau32_b2' b'j_zlogz' b'j_c1_b0' b'j_c1_b1' b'j_c1_b2' b'j_c2_b1'\n",
      " b'j_c2_b2' b'j_d2_b1' b'j_d2_b2' b'j_d2_a1_b1' b'j_d2_a1_b2' b'j_m2_b1'\n",
      " b'j_m2_b2' b'j_n2_b1' b'j_n2_b2' b'j_tau1_b1_mmdt' b'j_tau2_b1_mmdt'\n",
      " b'j_tau3_b1_mmdt' b'j_tau1_b2_mmdt' b'j_tau2_b2_mmdt' b'j_tau3_b2_mmdt'\n",
      " b'j_tau32_b1_mmdt' b'j_tau32_b2_mmdt' b'j_c1_b0_mmdt' b'j_c1_b1_mmdt'\n",
      " b'j_c1_b2_mmdt' b'j_c2_b1_mmdt' b'j_c2_b2_mmdt' b'j_d2_b1_mmdt'\n",
      " b'j_d2_b2_mmdt' b'j_d2_a1_b1_mmdt' b'j_d2_a1_b2_mmdt' b'j_m2_b1_mmdt'\n",
      " b'j_m2_b2_mmdt' b'j_n2_b1_mmdt' b'j_n2_b2_mmdt' b'j_mass_trim'\n",
      " b'j_mass_mmdt' b'j_mass_prun' b'j_mass_sdb2' b'j_mass_sdm1'\n",
      " b'j_multiplicity' b'j_g' b'j_q' b'j_w' b'j_z' b'j_t' b'j_undef']\n"
     ]
    }
   ],
   "source": [
    "# These are the quantities we are dealing with\n",
    "featurenames = f.get('jetFeatureNames')\n",
    "print(featurenames[:])\n",
    "# the b is due to the byte vs utf-8 encoding of the strings in the dataset\n",
    "# just ignore them for the moment"
   ]
  },
  {
   "cell_type": "code",
   "execution_count": 4,
   "id": "c7592936",
   "metadata": {},
   "outputs": [
    {
     "name": "stdout",
     "output_type": "stream",
     "text": [
      "<HDF5 dataset \"jetImage\": shape (10000, 100, 100), type \"<f8\">\n"
     ]
    }
   ],
   "source": [
    "print(f.get('jetImage'))"
   ]
  },
  {
   "cell_type": "code",
   "execution_count": 5,
   "id": "79f94aaf",
   "metadata": {},
   "outputs": [
    {
     "name": "stdout",
     "output_type": "stream",
     "text": [
      "Dataset shape:\n",
      "(10000, 5)\n",
      "First five entries:\n",
      "[1. 0. 0. 0. 0.]\n",
      "[1. 0. 0. 0. 0.]\n",
      "[0. 0. 0. 0. 1.]\n",
      "[1. 0. 0. 0. 0.]\n",
      "[0. 0. 0. 1. 0.]\n",
      "Last 5 entries:\n",
      "[0. 0. 1. 0. 0.]\n",
      "[1. 0. 0. 0. 0.]\n",
      "[0. 1. 0. 0. 0.]\n",
      "[0. 1. 0. 0. 0.]\n",
      "[1. 0. 0. 0. 0.]\n"
     ]
    }
   ],
   "source": [
    "jet_data = np.array(f.get('jets'))\n",
    "target = jet_data[:,-6:-1]\n",
    "# shape of the dataset\n",
    "print(\"Dataset shape:\")\n",
    "print(target.shape)\n",
    "print(\"First five entries:\")\n",
    "for i in range(5):\n",
    "    print(target[i])\n",
    "print(\"Last 5 entries:\")\n",
    "for i in range(-5,0):\n",
    "    print(target[i])"
   ]
  },
  {
   "cell_type": "code",
   "execution_count": 6,
   "id": "cfa02526",
   "metadata": {},
   "outputs": [
    {
     "name": "stdout",
     "output_type": "stream",
     "text": [
      "(10000, 53)\n"
     ]
    }
   ],
   "source": [
    "data = np.array(jet_data[:,:-6])\n",
    "print(data.shape)"
   ]
  },
  {
   "cell_type": "code",
   "execution_count": 7,
   "id": "4969dd08",
   "metadata": {},
   "outputs": [],
   "source": [
    "labelCat= [\"gluon\", \"quark\", \"W\", \"Z\", \"top\"]\n",
    "# this function makes the histogram of a given quantity for the five classes\n",
    "def makePlot(feature_index, input_data, input_featurenames):\n",
    "    plt.subplots()\n",
    "    for i in range(len(labelCat)):\n",
    "        # notice the use of numpy masking to select specific classes of jets\n",
    "        my_data = input_data[np.argmax(target, axis=1) == i]\n",
    "        # then plot the right quantity for the reduced array\n",
    "        plt.hist(my_data[:,feature_index], 50, density=True, histtype='step', fill=False, linewidth=1.5)\n",
    "    plt.yscale('log')    \n",
    "    plt.legend(labelCat, fontsize=12, frameon=False)\n",
    "    plt.xlabel(str(input_featurenames[feature_index], \"utf-8\"), fontsize=15)\n",
    "    plt.ylabel('Prob. Density (a.u.)', fontsize=15)\n",
    "    plt.show()\n",
    "    #del fig, ax\n",
    "    #return fig, ax"
   ]
  },
  {
   "cell_type": "markdown",
   "id": "41036653",
   "metadata": {},
   "source": [
    "# The particle-list dataset\n",
    "In this case, we look at the particle-related features that we have stored for each jet constituent. The structure of the dataset is similar to that of the physics-motivated features, except for the fact that we have now a double-index dataset: (jet index, particle index). The list is cut at 100 constituents /jet. If less are found, the dataset is completed filling it with 0s (zero padding)"
   ]
  },
  {
   "cell_type": "code",
   "execution_count": 10,
   "id": "ca54a552",
   "metadata": {},
   "outputs": [
    {
     "name": "stdout",
     "output_type": "stream",
     "text": [
      "[b'j1_px' b'j1_py' b'j1_pz' b'j1_e' b'j1_erel' b'j1_pt' b'j1_ptrel'\n",
      " b'j1_eta' b'j1_etarel' b'j1_etarot' b'j1_phi' b'j1_phirel' b'j1_phirot'\n",
      " b'j1_deltaR' b'j1_costheta' b'j1_costhetarel' b'j1_pdgid']\n"
     ]
    }
   ],
   "source": [
    "p_featurenames = f.get(\"particleFeatureNames\")\n",
    "print(p_featurenames[:])"
   ]
  },
  {
   "cell_type": "code",
   "execution_count": 11,
   "id": "c318ad6b",
   "metadata": {},
   "outputs": [
    {
     "name": "stdout",
     "output_type": "stream",
     "text": [
      "(10000, 100, 16)\n"
     ]
    }
   ],
   "source": [
    "p_data = f.get(\"jetConstituentList\")\n",
    "print(p_data.shape)"
   ]
  },
  {
   "cell_type": "code",
   "execution_count": 12,
   "id": "6bfa8ae6",
   "metadata": {},
   "outputs": [],
   "source": [
    "labelCat= [\"gluon\", \"quark\", \"W\", \"Z\", \"top\"]\n",
    "# this function makes the histogram of a given quantity for the five classes\n",
    "def makePlot_p(feature_index, input_data, input_featurenames):\n",
    "    plt.subplots()\n",
    "    for i in range(len(labelCat)):\n",
    "        my_data = input_data[:,:,feature_index]\n",
    "        # notice the use of numpy masking to select specific classes of jets\n",
    "        my_data = my_data[np.argmax(target, axis=1) == i]\n",
    "        # then plot the right quantity for the reduced array\n",
    "        plt.hist(my_data[:,feature_index].flatten(), 50, density=True, histtype='step', fill=False, linewidth=1.5)\n",
    "    plt.yscale('log')    \n",
    "    plt.legend(labelCat, fontsize=12, frameon=False)  \n",
    "    plt.xlabel(str(input_featurenames[feature_index], \"utf-8\"), fontsize=15)\n",
    "    plt.ylabel('Prob. Density (a.u.)', fontsize=15)\n",
    "    plt.show()\n",
    "    #del fig, ax\n",
    "    #return fig, ax"
   ]
  },
  {
   "cell_type": "markdown",
   "id": "2324d8a4",
   "metadata": {},
   "source": [
    "## Generative model of jet images with AE"
   ]
  },
  {
   "cell_type": "code",
   "execution_count": 14,
   "id": "9b337846",
   "metadata": {
    "scrolled": true
   },
   "outputs": [],
   "source": [
    "import keras\n",
    "from matplotlib import pyplot as plt\n",
    "import numpy as np\n",
    "%matplotlib inline\n",
    "\n",
    "# Importing keras and related modules\n",
    "import tensorflow as tf\n",
    "from keras.models import Model\n",
    "from tensorflow.keras.optimizers import RMSprop\n",
    "from keras.layers import Input,Dense,Flatten,Dropout,Reshape,Conv2D,MaxPooling2D,UpSampling2D,Conv2DTranspose\n",
    "from tensorflow.keras.layers import BatchNormalization\n",
    "from keras.models import Model,Sequential\n",
    "from keras.callbacks import ModelCheckpoint\n",
    "from tensorflow.keras.optimizers import Adadelta, RMSprop,SGD,Adam\n",
    "from keras import regularizers\n",
    "from keras import backend as K\n",
    "from tensorflow.keras.utils import to_categorical\n",
    "from tensorflow.keras.layers import Input, Dense, Flatten, Reshape, Lambda\n",
    "from tensorflow.keras.losses import mse\n",
    "from tensorflow.keras.callbacks import EarlyStopping\n",
    "from tensorflow.keras.layers import Concatenate\n",
    "\n"
   ]
  },
  {
   "cell_type": "markdown",
   "id": "2664edb7",
   "metadata": {},
   "source": [
    "# Data Preprocessing\n"
   ]
  },
  {
   "cell_type": "markdown",
   "id": "68ab6850",
   "metadata": {},
   "source": [
    "\n",
    "Using the jet image dataset, you can adapt the Graph GAN architecture to generate graph-structured data. Since the jet image dataset isn't inherently graph-structured, we can represent each jet image as a graph using a simplified approach. Here's how you could do it:\n",
    "\n",
    "1. **Convert Jet Images to Graphs:** Each jet image can be represented as a graph, where the nodes represent pixels, and edges connect neighboring pixels. You can create adjacency matrices for each image by considering the pixel intensities as edge weights.\n",
    "\n",
    "2. **Graph GAN Architecture:** The architecture remains similar, but instead of nodes and features, you're dealing with pixels and intensities. The generator takes random noise as input and generates adjacency matrices for the graphs. The discriminator evaluates whether a given adjacency matrix represents a real or generated image."
   ]
  },
  {
   "cell_type": "code",
   "execution_count": 1,
   "id": "92858485",
   "metadata": {},
   "outputs": [
    {
     "ename": "ModuleNotFoundError",
     "evalue": "No module named 'spektral'",
     "output_type": "error",
     "traceback": [
      "\u001b[0;31m---------------------------------------------------------------------------\u001b[0m",
      "\u001b[0;31mModuleNotFoundError\u001b[0m                       Traceback (most recent call last)",
      "\u001b[0;32m/tmp/sraj/ipykernel_2394570/3274357752.py\u001b[0m in \u001b[0;36m<module>\u001b[0;34m\u001b[0m\n\u001b[0;32m----> 1\u001b[0;31m \u001b[0;32mfrom\u001b[0m \u001b[0mspektral\u001b[0m\u001b[0;34m.\u001b[0m\u001b[0mlayers\u001b[0m \u001b[0;32mimport\u001b[0m \u001b[0mGraphConv\u001b[0m\u001b[0;34m\u001b[0m\u001b[0;34m\u001b[0m\u001b[0m\n\u001b[0m",
      "\u001b[0;31mModuleNotFoundError\u001b[0m: No module named 'spektral'"
     ]
    }
   ],
   "source": [
    "from spektral.layers import GraphConv\n"
   ]
  },
  {
   "cell_type": "code",
   "execution_count": 15,
   "id": "2e7577a1",
   "metadata": {},
   "outputs": [],
   "source": [
    "# Prepare the data\n",
    "# Assuming you have jet images in a numpy array 'jet_images'\n",
    "# Normalize the pixel values between 0 and 1\n",
    "jet_images = np.array(f.get('jetImage')).astype('float32') / 255.0\n"
   ]
  },
  {
   "cell_type": "code",
   "execution_count": 16,
   "id": "e4f255da",
   "metadata": {},
   "outputs": [
    {
     "name": "stdout",
     "output_type": "stream",
     "text": [
      "Dimensions of the first image: (100, 100)\n"
     ]
    }
   ],
   "source": [
    "# Get the shape of the first image in the dataset\n",
    "first_image_shape = jet_images[0].shape\n",
    "\n",
    "# Print the dimensions of the first image\n",
    "print(\"Dimensions of the first image:\", first_image_shape)"
   ]
  },
  {
   "cell_type": "code",
   "execution_count": 17,
   "id": "8bda6493",
   "metadata": {},
   "outputs": [
    {
     "name": "stdout",
     "output_type": "stream",
     "text": [
      "Shape of the dataset: (10000, 100, 100)\n",
      "image_size is, 100\n"
     ]
    }
   ],
   "source": [
    "dataset_shape = jet_images.shape\n",
    "# Print the shape of the dataset\n",
    "print(\"Shape of the dataset:\", dataset_shape)\n",
    "image_size = dataset_shape[1]\n",
    "print(f'image_size is,',image_size)\n",
    "num_classes = 10  # Replace with the actual number of classes in your dataset\n"
   ]
  },
  {
   "cell_type": "code",
   "execution_count": 18,
   "id": "41731fc4",
   "metadata": {},
   "outputs": [],
   "source": [
    "# Split the data into training and validation sets\n",
    "train_size = int(0.8 * len(jet_images))\n",
    "x_train = jet_images[:train_size]\n",
    "x_val = jet_images[train_size:]\n"
   ]
  },
  {
   "cell_type": "code",
   "execution_count": 19,
   "id": "f9582875",
   "metadata": {},
   "outputs": [],
   "source": [
    "# Add the batch dimension to your training and validation data\n",
    "x_train = np.expand_dims(x_train, axis=-1)  # Add a single channel dimension\n",
    "x_val = np.expand_dims(x_val, axis=-1)"
   ]
  },
  {
   "cell_type": "markdown",
   "id": "dca5584a",
   "metadata": {},
   "source": [
    "# Model"
   ]
  },
  {
   "cell_type": "code",
   "execution_count": 28,
   "id": "70fee163",
   "metadata": {},
   "outputs": [],
   "source": [
    "# model_practice_CVAE\n",
    "latent_dim = 2  # Dimension of latent space\n",
    "\n",
    "def build_cvae(input_shape):\n",
    "    # Encoder\n",
    "    encoder_input = Input(shape=input_shape)\n",
    "    label_input = Input(shape=(num_classes,))\n",
    "    x = Conv2D(16, (3, 3), activation='relu', padding='same')(encoder_input)\n",
    "    x = BatchNormalization()(x)\n",
    "    x = MaxPooling2D((2, 2), padding='same')(x)\n",
    "    x = Conv2D(32, (3, 3), activation='relu', padding='same')(x)\n",
    "    x = BatchNormalization()(x)\n",
    "    x = MaxPooling2D((2, 2), padding='same')(x)\n",
    "    x = Flatten()(x)\n",
    "    x = Concatenate()([x, label_input])  # Concatenate labels to the flattened features\n",
    "    z_mean = Dense(latent_dim)(x)\n",
    "    z_log_var = Dense(latent_dim)(x)\n",
    "    \n",
    "    # Reparameterization trick\n",
    "    def sampling(args):\n",
    "        z_mean, z_log_var = args\n",
    "        epsilon = tf.random.normal(shape=(tf.shape(z_mean)[0], latent_dim), mean=0., stddev=1.)\n",
    "        return z_mean + tf.exp(0.5 * z_log_var) * epsilon\n",
    "    \n",
    "    z = Lambda(sampling)([z_mean, z_log_var])\n",
    "    \n",
    "    encoder = Model([encoder_input, label_input], [z_mean, z_log_var, z], name='encoder')\n",
    "    \n",
    "    # Decoder\n",
    "    latent_input = Input(shape=(latent_dim,))\n",
    "    x = Concatenate()([latent_input, label_input])  # Concatenate labels to the latent space\n",
    "    x = Dense(image_size // 4 * image_size // 4 * 16, activation='relu')(x)\n",
    "    x = Reshape((image_size // 4, image_size // 4, 16))(x)\n",
    "    x = Conv2D(16, (3, 3), activation='relu', padding='same')(x)\n",
    "    x = BatchNormalization()(x)\n",
    "    x = UpSampling2D((2, 2))(x)\n",
    "    x = Conv2D(32, (3, 3), activation='relu', padding='same')(x)\n",
    "    x = BatchNormalization()(x)\n",
    "    x = UpSampling2D((2, 2))(x)\n",
    "    decoder_output = Conv2DTranspose(1, (3, 3), activation='sigmoid', padding='same')(x)\n",
    "    \n",
    "    decoder = Model([latent_input, label_input], decoder_output, name='decoder')\n",
    "    \n",
    "    # CVAE model\n",
    "    encoder_inputs = [encoder_input, label_input]\n",
    "    _, _, encoded = encoder(encoder_inputs)\n",
    "    decoder_inputs = [encoded, label_input]  # Use encoded instead of latent_input\n",
    "    cvae_output = decoder(decoder_inputs)\n",
    "    \n",
    "    cvae = Model(encoder_inputs, cvae_output, name='cvae')\n",
    "    \n",
    "    return cvae, encoder, decoder\n",
    "    \n",
    "\n",
    "\n",
    "\n"
   ]
  },
  {
   "cell_type": "code",
   "execution_count": 29,
   "id": "c5530a3d",
   "metadata": {},
   "outputs": [],
   "source": [
    "# Reshape the jet images dataset to match the model's input shape\n",
    "jet_images_reshaped = jet_images.reshape((-1, image_size, image_size, 1))\n",
    "\n",
    "# Create label data (replace with actual label data)\n",
    "labels = np.random.randint(0, num_classes, size=jet_images_reshaped.shape[0])\n",
    "one_hot_labels = tf.keras.utils.to_categorical(labels, num_classes=num_classes)\n",
    "\n",
    "# Splitting data into training and validation sets\n",
    "train_size = int(0.9 * jet_images_reshaped.shape[0])  # 90% for training\n",
    "train_images, val_images = jet_images_reshaped[:train_size], jet_images_reshaped[train_size:]\n",
    "train_labels, val_labels = one_hot_labels[:train_size], one_hot_labels[train_size:]\n"
   ]
  },
  {
   "cell_type": "code",
   "execution_count": 30,
   "id": "3a09eeae",
   "metadata": {},
   "outputs": [],
   "source": [
    "# Build the CVAE model\n",
    "input_shape = train_images[0].shape\n",
    "cvae, _, _ = build_cvae(input_shape)\n"
   ]
  },
  {
   "cell_type": "markdown",
   "id": "082c91ce",
   "metadata": {},
   "source": [
    "Make sure that you have properly built and compiled your VAE model before trying to access its summary."
   ]
  },
  {
   "cell_type": "code",
   "execution_count": 31,
   "id": "eeb79e38",
   "metadata": {},
   "outputs": [
    {
     "name": "stdout",
     "output_type": "stream",
     "text": [
      "Model: \"cvae\"\n",
      "__________________________________________________________________________________________________\n",
      " Layer (type)                   Output Shape         Param #     Connected to                     \n",
      "==================================================================================================\n",
      " input_7 (InputLayer)           [(None, 100, 100, 1  0           []                               \n",
      "                                )]                                                                \n",
      "                                                                                                  \n",
      " input_8 (InputLayer)           [(None, 10)]         0           []                               \n",
      "                                                                                                  \n",
      " encoder (Functional)           [(None, 2),          85036       ['input_7[0][0]',                \n",
      "                                 (None, 2),                       'input_8[0][0]']                \n",
      "                                 (None, 2)]                                                       \n",
      "                                                                                                  \n",
      " decoder (Functional)           (None, 100, 100, 1)  137441      ['encoder[0][2]',                \n",
      "                                                                  'input_8[0][0]']                \n",
      "                                                                                                  \n",
      "==================================================================================================\n",
      "Total params: 222,477\n",
      "Trainable params: 222,285\n",
      "Non-trainable params: 192\n",
      "__________________________________________________________________________________________________\n"
     ]
    }
   ],
   "source": [
    "# Get the summary of the VAE model\n",
    "cvae.summary()"
   ]
  },
  {
   "cell_type": "code",
   "execution_count": 32,
   "id": "12b7b769",
   "metadata": {},
   "outputs": [],
   "source": [
    "# # Training loop\n",
    "# epochs = 50\n",
    "# batch_size = 64  # Set the batch size based on dataset size\n",
    "\n",
    "# for epoch in range(epochs):\n",
    "#     for _ in range(jet_images_reshaped.shape[0] // batch_size):\n",
    "#         batch_indices = np.random.randint(0, jet_images_reshaped.shape[0], batch_size)\n",
    "#         batch = jet_images_reshaped[batch_indices]\n",
    "#         vae.train_on_batch(batch, batch)\n",
    "    \n",
    "#     print(f\"Epoch {epoch}/{epochs}, Loss: {vae.evaluate(jet_images_reshaped, jet_images_reshaped, verbose=0)}\")\n",
    "\n",
    "# # Generate and save example images from the decoder\n",
    "# num_examples = 10\n",
    "# latent_samples = np.random.normal(size=(num_examples, latent_dim))\n",
    "# generated_images = decoder.predict(latent_samples)\n",
    "\n",
    "# # Display or save generated images"
   ]
  },
  {
   "cell_type": "code",
   "execution_count": 33,
   "id": "eec163eb",
   "metadata": {},
   "outputs": [
    {
     "name": "stderr",
     "output_type": "stream",
     "text": [
      "2023-08-15 20:02:01.123615: W tensorflow/core/framework/cpu_allocator_impl.cc:82] Allocation of 360000000 exceeds 10% of free system memory.\n"
     ]
    },
    {
     "name": "stdout",
     "output_type": "stream",
     "text": [
      "Epoch 1/50\n",
      "188/188 [==============================] - 6s 22ms/step - loss: 0.2396 - val_loss: 0.0128\n",
      "Epoch 2/50\n",
      "188/188 [==============================] - 4s 19ms/step - loss: 0.0077 - val_loss: 0.0051\n",
      "Epoch 3/50\n",
      "188/188 [==============================] - 4s 19ms/step - loss: 0.0045 - val_loss: 0.0040\n",
      "Epoch 4/50\n",
      "188/188 [==============================] - 4s 19ms/step - loss: 0.0037 - val_loss: 0.0038\n",
      "Epoch 5/50\n",
      "188/188 [==============================] - 4s 19ms/step - loss: 0.0025 - val_loss: 0.0037\n",
      "Epoch 6/50\n",
      "188/188 [==============================] - 4s 19ms/step - loss: 0.0018 - val_loss: 0.0037\n",
      "Epoch 7/50\n",
      "188/188 [==============================] - 4s 19ms/step - loss: 0.0016 - val_loss: 0.0037\n",
      "Epoch 8/50\n",
      "188/188 [==============================] - 4s 19ms/step - loss: 0.0010 - val_loss: 0.0038\n",
      "Epoch 9/50\n",
      "188/188 [==============================] - 4s 20ms/step - loss: -0.0027 - val_loss: 0.0039\n",
      "Epoch 10/50\n",
      "188/188 [==============================] - 4s 19ms/step - loss: -0.0096 - val_loss: 0.0040\n",
      "Epoch 11/50\n",
      "188/188 [==============================] - 4s 19ms/step - loss: -0.0213 - val_loss: 0.0042\n"
     ]
    }
   ],
   "source": [
    "\n",
    "\n",
    "\n",
    "# # Training loop\n",
    "# epochs = 100\n",
    "# batch_size = 32  # Set the batch size based on dataset size\n",
    "\n",
    "\n",
    "# history = cvae.fit(x_train, epochs=epochs, batch_size=batch_size, validation_data=(x_val, x_val), )\n",
    "\n",
    "\n",
    "# --------------------------------------\n",
    "# Compile the CVAE model\n",
    "cvae.compile(optimizer='adam', loss='binary_crossentropy')\n",
    "\n",
    "# Early stopping callback\n",
    "early_stopping = EarlyStopping(monitor='val_loss', patience=5, restore_best_weights=True)\n",
    "\n",
    "# Training loop\n",
    "batch_size = 48\n",
    "\n",
    "history = cvae.fit([train_images, train_labels], train_images,\n",
    "                   epochs=50,\n",
    "                   batch_size=batch_size,\n",
    "                   validation_data=([val_images, val_labels], val_images),\n",
    "                   callbacks=[early_stopping])"
   ]
  },
  {
   "cell_type": "code",
   "execution_count": 26,
   "id": "3b963791",
   "metadata": {},
   "outputs": [
    {
     "data": {
      "image/png": "[encoded data removed]",
      "text/plain": [
       "<Figure size 720x360 with 1 Axes>"
      ]
     },
     "metadata": {
      "needs_background": "light"
     },
     "output_type": "display_data"
    }
   ],
   "source": [
    "#### Plot the training loss and validation loss\n",
    "plt.figure(figsize=(10, 5))\n",
    "plt.plot(history.history['loss'], label='Training Loss')\n",
    "plt.plot(history.history['val_loss'], label='Validation Loss')\n",
    "plt.xlabel('Epoch')\n",
    "plt.ylabel('Loss')\n",
    "plt.legend()\n",
    "plt.title('Training and Validation Loss')\n",
    "plt.show()\n",
    "\n"
   ]
  },
  {
   "cell_type": "code",
   "execution_count": 35,
   "id": "bbf446d6",
   "metadata": {},
   "outputs": [
    {
     "data": {
      "image/png": "[encoded data removed]",
      "text/plain": [
       "<Figure size 576x288 with 2 Axes>"
      ]
     },
     "metadata": {
      "needs_background": "light"
     },
     "output_type": "display_data"
    },
    {
     "data": {
      "image/png": "[encoded data removed]",
      "text/plain": [
       "<Figure size 576x288 with 2 Axes>"
      ]
     },
     "metadata": {
      "needs_background": "light"
     },
     "output_type": "display_data"
    },
    {
     "data": {
      "image/png": "[encoded data removed]",
      "text/plain": [
       "<Figure size 576x288 with 2 Axes>"
      ]
     },
     "metadata": {
      "needs_background": "light"
     },
     "output_type": "display_data"
    },
    {
     "data": {
      "image/png": "[encoded data removed]",
      "text/plain": [
       "<Figure size 576x288 with 2 Axes>"
      ]
     },
     "metadata": {
      "needs_background": "light"
     },
     "output_type": "display_data"
    },
    {
     "data": {
      "image/png": "[encoded data removed]",
      "text/plain": [
       "<Figure size 576x288 with 2 Axes>"
      ]
     },
     "metadata": {
      "needs_background": "light"
     },
     "output_type": "display_data"
    },
    {
     "data": {
      "image/png": "[encoded data removed]",
      "text/plain": [
       "<Figure size 576x288 with 2 Axes>"
      ]
     },
     "metadata": {
      "needs_background": "light"
     },
     "output_type": "display_data"
    },
    {
     "data": {
      "image/png": "[encoded data removed]",
      "text/plain": [
       "<Figure size 576x288 with 2 Axes>"
      ]
     },
     "metadata": {
      "needs_background": "light"
     },
     "output_type": "display_data"
    },
    {
     "data": {
      "image/png": "[encoded data removed]",
      "text/plain": [
       "<Figure size 576x288 with 2 Axes>"
      ]
     },
     "metadata": {
      "needs_background": "light"
     },
     "output_type": "display_data"
    },
    {
     "data": {
      "image/png": "[encoded data removed]",
      "text/plain": [
       "<Figure size 576x288 with 2 Axes>"
      ]
     },
     "metadata": {
      "needs_background": "light"
     },
     "output_type": "display_data"
    },
    {
     "data": {
      "image/png": "[encoded data removed]",
      "text/plain": [
       "<Figure size 576x288 with 2 Axes>"
      ]
     },
     "metadata": {
      "needs_background": "light"
     },
     "output_type": "display_data"
    }
   ],
   "source": [
    "# Generate latent samples (random points in the latent space)\n",
    "num_examples = 10\n",
    "latent_samples = np.random.normal(size=(num_examples, latent_dim))\n",
    "latent_samples_labels = np.random.randint(0, num_classes, size=(num_examples, 1))  # Generate a single label for each sample\n",
    "latent_samples_one_hot = tf.keras.utils.to_categorical(latent_samples_labels, num_classes=num_classes)\n",
    "\n",
    "# Get the decoder from the trained CVAE model\n",
    "_, _, decoder = build_cvae(input_shape)  # Create a new decoder\n",
    "decoder.set_weights(cvae.get_layer('decoder').get_weights())  # Load trained weights\n",
    "\n",
    "# Generate images using the decoder\n",
    "generated_images = decoder.predict([latent_samples, latent_samples_one_hot])\n",
    "\n",
    "# Display or save generated images\n",
    "for i in range(num_examples):\n",
    "    original_image = jet_images_reshaped[i].reshape(image_size, image_size)\n",
    "    generated_image = generated_images[i].reshape(image_size, image_size)\n",
    "    \n",
    "    plt.figure(figsize=(8, 4))\n",
    "    plt.subplot(1, 2, 1)\n",
    "    plt.imshow(original_image, cmap='hot')\n",
    "    plt.title('Original Image')\n",
    "     # Set the limits of the x and y axes for the zoomed-in view\n",
    "    plt.xlim(10, 90)  # Adjust these values to focus on the region you want\n",
    "    plt.ylim(10, 90)\n",
    "    \n",
    "    \n",
    "    plt.subplot(1, 2, 2)\n",
    "    plt.imshow(generated_image, cmap='hot')\n",
    "    plt.title('Generated Image')\n",
    "    \n",
    "    # Set the limits of the x and y axes for the zoomed-in view\n",
    "    plt.xlim(40, 80)  # Adjust these values to focus on the region you want\n",
    "    plt.ylim(40, 80)\n",
    "    \n",
    "    \n",
    "#     plt.savefig('/eos/user/s/sraj/www/CUA/generated_image_VAE.png')\n",
    "#     plt.savefig('/eos/user/s/sraj/www/CUA/generated_image_VAE.pdf')\n",
    "    plt.show()\n",
    "    \n",
    "\n"
   ]
  },
  {
   "cell_type": "markdown",
   "id": "1dec4cb0",
   "metadata": {},
   "source": [
    "##### "
   ]
  }
 ],
 "metadata": {
  "kernelspec": {
   "display_name": "Python 3 (ipykernel)",
   "language": "python",
   "name": "python3"
  },
  "language_info": {
   "codemirror_mode": {
    "name": "ipython",
    "version": 3
   },
   "file_extension": ".py",
   "mimetype": "text/x-python",
   "name": "python",
   "nbconvert_exporter": "python",
   "pygments_lexer": "ipython3",
   "version": "3.9.12"
  }
 },
 "nbformat": 4,
 "nbformat_minor": 5
}
